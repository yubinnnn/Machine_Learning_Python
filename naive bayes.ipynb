{
 "cells": [
  {
   "cell_type": "code",
   "execution_count": 1,
   "metadata": {},
   "outputs": [],
   "source": [
    "from sklearn.model_selection import train_test_split\n",
    "from sklearn.datasets import load_iris\n",
    "from sklearn.naive_bayes import GaussianNB\n",
    "import numpy as np\n",
    "import pandas as pd\n",
    "import matplotlib.pyplot as plt\n",
    "import matplotlib\n",
    "%matplotlib inline"
   ]
  },
  {
   "cell_type": "code",
   "execution_count": 7,
   "metadata": {},
   "outputs": [],
   "source": [
    "iris = load_iris()\n",
    "X = pd.DataFrame(iris.data, columns = iris.feature_names)\n",
    "y = pd.DataFrame(iris.target, columns = ['target'])"
   ]
  },
  {
   "cell_type": "code",
   "execution_count": 8,
   "metadata": {},
   "outputs": [],
   "source": [
    "train_X, test_X, train_y, test_y = train_test_split(X, y, train_size = 0.8, test_size = 0.2, random_state = 123)"
   ]
  },
  {
   "cell_type": "code",
   "execution_count": 10,
   "metadata": {},
   "outputs": [
    {
     "name": "stderr",
     "output_type": "stream",
     "text": [
      "C:\\Users\\leeyubin\\anaconda3\\lib\\site-packages\\sklearn\\utils\\validation.py:73: DataConversionWarning: A column-vector y was passed when a 1d array was expected. Please change the shape of y to (n_samples, ), for example using ravel().\n",
      "  return f(**kwargs)\n"
     ]
    },
    {
     "data": {
      "text/plain": [
       "GaussianNB()"
      ]
     },
     "execution_count": 10,
     "metadata": {},
     "output_type": "execute_result"
    }
   ],
   "source": [
    "model = GaussianNB() #BernoulliNB, MultinomialNB\n",
    "model.fit(train_X, train_y)"
   ]
  },
  {
   "cell_type": "code",
   "execution_count": 11,
   "metadata": {},
   "outputs": [
    {
     "data": {
      "text/plain": [
       "array([1])"
      ]
     },
     "execution_count": 11,
     "metadata": {},
     "output_type": "execute_result"
    }
   ],
   "source": [
    "model.predict(test_X)[:1]"
   ]
  },
  {
   "cell_type": "code",
   "execution_count": 12,
   "metadata": {},
   "outputs": [
    {
     "data": {
      "text/plain": [
       "array([[7.24143720e-126, 9.23061979e-001, 7.69380215e-002]])"
      ]
     },
     "execution_count": 12,
     "metadata": {},
     "output_type": "execute_result"
    }
   ],
   "source": [
    "model.predict_proba(test_X)[:1]"
   ]
  },
  {
   "cell_type": "code",
   "execution_count": 13,
   "metadata": {},
   "outputs": [
    {
     "data": {
      "text/plain": [
       "array([6.3, 2.5, 4.9, 1.5])"
      ]
     },
     "execution_count": 13,
     "metadata": {},
     "output_type": "execute_result"
    }
   ],
   "source": [
    "# Xdata 첫번째 행\n",
    "predict_data = np.array(test_X.iloc[0])\n",
    "predict_data"
   ]
  },
  {
   "cell_type": "code",
   "execution_count": 14,
   "metadata": {},
   "outputs": [
    {
     "name": "stdout",
     "output_type": "stream",
     "text": [
      "[5.01621622 3.43243243 1.46756757 0.25945946] [0.10568298 0.14975895 0.02705625 0.01214025]\n",
      "[5.95       2.78409091 4.24090909 1.32272727] [0.27068182 0.10042872 0.22741736 0.04221075]\n",
      "[6.58717949 2.95897436 5.57948718 2.02820513] [0.39752795 0.11011177 0.29188692 0.0774096 ]\n"
     ]
    }
   ],
   "source": [
    "# Class별 평균, 분산\n",
    "for i in range(3):\n",
    "    print(model.theta_[i], model.sigma_[i])"
   ]
  },
  {
   "cell_type": "code",
   "execution_count": 15,
   "metadata": {},
   "outputs": [
    {
     "data": {
      "text/plain": [
       "[2.0700298536453225e-126, 0.2218869448618605, 7.497361843154609e-09]"
      ]
     },
     "execution_count": 15,
     "metadata": {},
     "output_type": "execute_result"
    }
   ],
   "source": [
    "import scipy as sp\n",
    "# Class별 likelihood(우도)\n",
    "likelihood = [\n",
    "(sp.stats.norm.pdf(predict_data[0], model.theta_[0][0], np.sqrt(model.sigma_[0][0])) *\n",
    " sp.stats.norm.pdf(predict_data[1], model.theta_[0][1], np.sqrt(model.sigma_[0][1])) *\n",
    " sp.stats.norm.pdf(predict_data[2], model.theta_[0][2], np.sqrt(model.sigma_[0][2])) *\n",
    " sp.stats.norm.pdf(predict_data[3], model.theta_[0][3], np.sqrt(model.sigma_[0][3]))),\n",
    "(sp.stats.norm.pdf(predict_data[0], model.theta_[1][0], np.sqrt(model.sigma_[1][0])) *\n",
    " sp.stats.norm.pdf(predict_data[1], model.theta_[1][1], np.sqrt(model.sigma_[1][1])) *\n",
    " sp.stats.norm.pdf(predict_data[2], model.theta_[1][2], np.sqrt(model.sigma_[1][2])) *\n",
    " sp.stats.norm.pdf(predict_data[3], model.theta_[1][3], np.sqrt(model.sigma_[1][3]))),\n",
    "(sp.stats.norm.pdf(predict_data[0], model.theta_[2][0], np.sqrt(model.sigma_[0][0])) *\n",
    " sp.stats.norm.pdf(predict_data[1], model.theta_[2][1], np.sqrt(model.sigma_[0][1])) *\n",
    " sp.stats.norm.pdf(predict_data[2], model.theta_[2][2], np.sqrt(model.sigma_[0][2])) *\n",
    " sp.stats.norm.pdf(predict_data[3], model.theta_[2][3], np.sqrt(model.sigma_[0][3])))]\n",
    "likelihood"
   ]
  },
  {
   "cell_type": "code",
   "execution_count": 16,
   "metadata": {},
   "outputs": [
    {
     "data": {
      "text/plain": [
       "array([6.38259205e-127, 8.13585464e-002, 2.43664260e-009])"
      ]
     },
     "execution_count": 16,
     "metadata": {},
     "output_type": "execute_result"
    }
   ],
   "source": [
    "# likehood * prior = posterior\n",
    "posterior = likelihood * model.class_prior_\n",
    "posterior"
   ]
  },
  {
   "cell_type": "code",
   "execution_count": 17,
   "metadata": {},
   "outputs": [
    {
     "name": "stdout",
     "output_type": "stream",
     "text": [
      "[[7.24143720e-126 9.23061979e-001 7.69380215e-002]]\n",
      "[7.84501707e-126 9.99999970e-001 2.99494353e-008]\n"
     ]
    }
   ],
   "source": [
    "# 비교\n",
    "print(model.predict_proba(test_X)[:1])\n",
    "print(posterior / np.sum(posterior, axis = 0))"
   ]
  },
  {
   "cell_type": "code",
   "execution_count": 18,
   "metadata": {},
   "outputs": [
    {
     "data": {
      "text/plain": [
       "(array([0.        , 0.        , 0.        , 0.05555556, 0.05555556,\n",
       "        0.27777778, 0.27777778, 0.5       , 0.5       , 0.72222222,\n",
       "        0.72222222, 1.        ]),\n",
       " array([0.        , 0.05882353, 0.29411765, 0.29411765, 0.82352941,\n",
       "        0.82352941, 0.88235294, 0.88235294, 0.94117647, 0.94117647,\n",
       "        1.        , 1.        ]),\n",
       " array([1.95069196e+00, 9.50691963e-01, 8.59568381e-01, 8.02528529e-01,\n",
       "        6.36588785e-01, 5.72423389e-01, 5.09315146e-01, 2.18899703e-01,\n",
       "        2.07759389e-01, 1.38131811e-01, 1.12737670e-01, 1.95386725e-05]))"
      ]
     },
     "execution_count": 18,
     "metadata": {},
     "output_type": "execute_result"
    }
   ],
   "source": [
    "from sklearn.datasets import make_classification\n",
    "X, y = make_classification(n_samples = 35, n_features = 2,\n",
    "                          n_informative = 2, n_redundant = 0,\n",
    "                          random_state = 0)\n",
    "clf = GaussianNB().fit(X, y)\n",
    "\n",
    "from sklearn.metrics import roc_curve\n",
    "\n",
    "fpr, tpr, thresholds = roc_curve(y, clf.predict_proba(X)[:, 1])\n",
    "fpr, tpr, thresholds"
   ]
  },
  {
   "cell_type": "code",
   "execution_count": 20,
   "metadata": {},
   "outputs": [
    {
     "data": {
      "text/plain": [
       "0.8823529411764706"
      ]
     },
     "execution_count": 20,
     "metadata": {},
     "output_type": "execute_result"
    }
   ],
   "source": [
    "# AUC\n",
    "from sklearn.metrics import auc\n",
    "auc(fpr, tpr)"
   ]
  },
  {
   "cell_type": "code",
   "execution_count": 21,
   "metadata": {},
   "outputs": [
    {
     "data": {
      "image/png": "[encoded data removed]",
      "text/plain": [
       "<Figure size 432x288 with 1 Axes>"
      ]
     },
     "metadata": {
      "needs_background": "light"
     },
     "output_type": "display_data"
    }
   ],
   "source": [
    "plt.plot(fpr, tpr, 'o-')\n",
    "plt.plot([0,1],[0,1], 'k--', label = 'random')\n",
    "plt.fill_between(fpr, tpr, 0, facecolor = 'red', alpha = 0.2)\n",
    "plt.xlabel('FPR')\n",
    "plt.ylabel('TPR')\n",
    "plt.title('ROC Curve')\n",
    "plt.show()"
   ]
  }
 ],
 "metadata": {
  "kernelspec": {
   "display_name": "Python 3",
   "language": "python",
   "name": "python3"
  },
  "language_info": {
   "codemirror_mode": {
    "name": "ipython",
    "version": 3
   },
   "file_extension": ".py",
   "mimetype": "text/x-python",
   "name": "python",
   "nbconvert_exporter": "python",
   "pygments_lexer": "ipython3",
   "version": "3.8.3"
  }
 },
 "nbformat": 4,
 "nbformat_minor": 4
}
